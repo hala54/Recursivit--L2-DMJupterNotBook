{
  "nbformat": 4,
  "nbformat_minor": 0,
  "metadata": {
    "colab": {
      "name": "Recursivité-L2-DM.ipynb",
      "provenance": [],
      "collapsed_sections": [],
      "toc_visible": true,
      "include_colab_link": true
    },
    "kernelspec": {
      "name": "python3",
      "display_name": "Python 3"
    },
    "language_info": {
      "name": "python"
    },
    "widgets": {
      "application/vnd.jupyter.widget-state+json": {
        "a33dc3cc9a56446ca9aa259261b6096d": {
          "model_module": "@jupyter-widgets/controls",
          "model_name": "VBoxModel",
          "state": {
            "_view_name": "VBoxView",
            "_dom_classes": [],
            "_model_name": "VBoxModel",
            "_view_module": "@jupyter-widgets/controls",
            "_model_module_version": "1.5.0",
            "_view_count": null,
            "_view_module_version": "1.5.0",
            "box_style": "",
            "layout": "IPY_MODEL_196b0ea1bea94f8ea6aa5caa22d22995",
            "_model_module": "@jupyter-widgets/controls",
            "children": [
              "IPY_MODEL_b2f617dfa10e4049a7f91ecf828046dd",
              "IPY_MODEL_ef91d33aa76548fbae201217fb653184",
              "IPY_MODEL_670622e096ce4dc09ef2517768175acc",
              "IPY_MODEL_4b653c6fdd3b43bfb2c03b509f135fbf"
            ]
          }
        },
        "196b0ea1bea94f8ea6aa5caa22d22995": {
          "model_module": "@jupyter-widgets/base",
          "model_name": "LayoutModel",
          "state": {
            "_view_name": "LayoutView",
            "grid_template_rows": null,
            "right": null,
            "justify_content": null,
            "_view_module": "@jupyter-widgets/base",
            "overflow": null,
            "_model_module_version": "1.2.0",
            "_view_count": null,
            "flex_flow": null,
            "width": null,
            "min_width": null,
            "border": null,
            "align_items": null,
            "bottom": null,
            "_model_module": "@jupyter-widgets/base",
            "top": null,
            "grid_column": null,
            "overflow_y": null,
            "overflow_x": null,
            "grid_auto_flow": null,
            "grid_area": null,
            "grid_template_columns": null,
            "flex": null,
            "_model_name": "LayoutModel",
            "justify_items": null,
            "grid_row": null,
            "max_height": null,
            "align_content": null,
            "visibility": null,
            "align_self": null,
            "height": null,
            "min_height": null,
            "padding": null,
            "grid_auto_rows": null,
            "grid_gap": null,
            "max_width": null,
            "order": null,
            "_view_module_version": "1.2.0",
            "grid_template_areas": null,
            "object_position": null,
            "object_fit": null,
            "grid_auto_columns": null,
            "margin": null,
            "display": null,
            "left": null
          }
        },
        "b2f617dfa10e4049a7f91ecf828046dd": {
          "model_module": "@jupyter-widgets/output",
          "model_name": "OutputModel",
          "state": {
            "_view_name": "OutputView",
            "msg_id": "",
            "_dom_classes": [],
            "_model_name": "OutputModel",
            "outputs": [
              {
                "output_type": "stream",
                "metadata": {
                  "tags": []
                },
                "text": "Complexité de fib(n): ?\n",
                "stream": "stdout"
              }
            ],
            "_view_module": "@jupyter-widgets/output",
            "_model_module_version": "1.0.0",
            "_view_count": null,
            "_view_module_version": "1.0.0",
            "layout": "IPY_MODEL_fad906e9c3214f2e96640b050d135a73",
            "_model_module": "@jupyter-widgets/output"
          }
        },
        "ef91d33aa76548fbae201217fb653184": {
          "model_module": "@jupyter-widgets/controls",
          "model_name": "RadioButtonsModel",
          "state": {
            "_options_labels": [
              "O(n)",
              "O(2^n)"
            ],
            "_view_name": "RadioButtonsView",
            "style": "IPY_MODEL_f9831dd8dc134cc193bd82e058878d9d",
            "_dom_classes": [],
            "description": "",
            "_model_name": "RadioButtonsModel",
            "index": 1,
            "_view_module": "@jupyter-widgets/controls",
            "_model_module_version": "1.5.0",
            "_view_count": null,
            "disabled": false,
            "_view_module_version": "1.5.0",
            "description_tooltip": null,
            "_model_module": "@jupyter-widgets/controls",
            "layout": "IPY_MODEL_31ee60349b5f4d46a247a45d2ad859e8"
          }
        },
        "670622e096ce4dc09ef2517768175acc": {
          "model_module": "@jupyter-widgets/controls",
          "model_name": "ButtonModel",
          "state": {
            "_view_name": "ButtonView",
            "style": "IPY_MODEL_f1903972c0bf4417a40b3f6679acd971",
            "_dom_classes": [],
            "description": "submit",
            "_model_name": "ButtonModel",
            "button_style": "",
            "_view_module": "@jupyter-widgets/controls",
            "_model_module_version": "1.5.0",
            "tooltip": "",
            "_view_count": null,
            "disabled": false,
            "_view_module_version": "1.5.0",
            "layout": "IPY_MODEL_3818b23fcbca4cb487b9cb224f021443",
            "_model_module": "@jupyter-widgets/controls",
            "icon": ""
          }
        },
        "4b653c6fdd3b43bfb2c03b509f135fbf": {
          "model_module": "@jupyter-widgets/output",
          "model_name": "OutputModel",
          "state": {
            "_view_name": "OutputView",
            "msg_id": "",
            "_dom_classes": [],
            "_model_name": "OutputModel",
            "outputs": [
              {
                "output_type": "stream",
                "metadata": {
                  "tags": []
                },
                "text": "Bravo, vous pouvez continuer. \u001b[0m\n\n",
                "stream": "stdout"
              }
            ],
            "_view_module": "@jupyter-widgets/output",
            "_model_module_version": "1.0.0",
            "_view_count": null,
            "_view_module_version": "1.0.0",
            "layout": "IPY_MODEL_447b47b3e9d04bd9be1191643843d5c9",
            "_model_module": "@jupyter-widgets/output"
          }
        },
        "f9831dd8dc134cc193bd82e058878d9d": {
          "model_module": "@jupyter-widgets/controls",
          "model_name": "DescriptionStyleModel",
          "state": {
            "_view_name": "StyleView",
            "_model_name": "DescriptionStyleModel",
            "description_width": "",
            "_view_module": "@jupyter-widgets/base",
            "_model_module_version": "1.5.0",
            "_view_count": null,
            "_view_module_version": "1.2.0",
            "_model_module": "@jupyter-widgets/controls"
          }
        },
        "31ee60349b5f4d46a247a45d2ad859e8": {
          "model_module": "@jupyter-widgets/base",
          "model_name": "LayoutModel",
          "state": {
            "_view_name": "LayoutView",
            "grid_template_rows": null,
            "right": null,
            "justify_content": null,
            "_view_module": "@jupyter-widgets/base",
            "overflow": null,
            "_model_module_version": "1.2.0",
            "_view_count": null,
            "flex_flow": null,
            "width": null,
            "min_width": null,
            "border": null,
            "align_items": null,
            "bottom": null,
            "_model_module": "@jupyter-widgets/base",
            "top": null,
            "grid_column": null,
            "overflow_y": null,
            "overflow_x": null,
            "grid_auto_flow": null,
            "grid_area": null,
            "grid_template_columns": null,
            "flex": null,
            "_model_name": "LayoutModel",
            "justify_items": null,
            "grid_row": null,
            "max_height": null,
            "align_content": null,
            "visibility": null,
            "align_self": null,
            "height": null,
            "min_height": null,
            "padding": null,
            "grid_auto_rows": null,
            "grid_gap": null,
            "max_width": null,
            "order": null,
            "_view_module_version": "1.2.0",
            "grid_template_areas": null,
            "object_position": null,
            "object_fit": null,
            "grid_auto_columns": null,
            "margin": null,
            "display": null,
            "left": null
          }
        },
        "f1903972c0bf4417a40b3f6679acd971": {
          "model_module": "@jupyter-widgets/controls",
          "model_name": "ButtonStyleModel",
          "state": {
            "_view_name": "StyleView",
            "_model_name": "ButtonStyleModel",
            "_view_module": "@jupyter-widgets/base",
            "_model_module_version": "1.5.0",
            "_view_count": null,
            "button_color": null,
            "font_weight": "",
            "_view_module_version": "1.2.0",
            "_model_module": "@jupyter-widgets/controls"
          }
        },
        "3818b23fcbca4cb487b9cb224f021443": {
          "model_module": "@jupyter-widgets/base",
          "model_name": "LayoutModel",
          "state": {
            "_view_name": "LayoutView",
            "grid_template_rows": null,
            "right": null,
            "justify_content": null,
            "_view_module": "@jupyter-widgets/base",
            "overflow": null,
            "_model_module_version": "1.2.0",
            "_view_count": null,
            "flex_flow": null,
            "width": null,
            "min_width": null,
            "border": null,
            "align_items": null,
            "bottom": null,
            "_model_module": "@jupyter-widgets/base",
            "top": null,
            "grid_column": null,
            "overflow_y": null,
            "overflow_x": null,
            "grid_auto_flow": null,
            "grid_area": null,
            "grid_template_columns": null,
            "flex": null,
            "_model_name": "LayoutModel",
            "justify_items": null,
            "grid_row": null,
            "max_height": null,
            "align_content": null,
            "visibility": null,
            "align_self": null,
            "height": null,
            "min_height": null,
            "padding": null,
            "grid_auto_rows": null,
            "grid_gap": null,
            "max_width": null,
            "order": null,
            "_view_module_version": "1.2.0",
            "grid_template_areas": null,
            "object_position": null,
            "object_fit": null,
            "grid_auto_columns": null,
            "margin": null,
            "display": null,
            "left": null
          }
        },
        "fad906e9c3214f2e96640b050d135a73": {
          "model_module": "@jupyter-widgets/base",
          "model_name": "LayoutModel",
          "state": {
            "_view_name": "LayoutView",
            "grid_template_rows": null,
            "right": null,
            "justify_content": null,
            "_view_module": "@jupyter-widgets/base",
            "overflow": null,
            "_model_module_version": "1.2.0",
            "_view_count": null,
            "flex_flow": null,
            "width": null,
            "min_width": null,
            "border": null,
            "align_items": null,
            "bottom": null,
            "_model_module": "@jupyter-widgets/base",
            "top": null,
            "grid_column": null,
            "overflow_y": null,
            "overflow_x": null,
            "grid_auto_flow": null,
            "grid_area": null,
            "grid_template_columns": null,
            "flex": null,
            "_model_name": "LayoutModel",
            "justify_items": null,
            "grid_row": null,
            "max_height": null,
            "align_content": null,
            "visibility": null,
            "align_self": null,
            "height": null,
            "min_height": null,
            "padding": null,
            "grid_auto_rows": null,
            "grid_gap": null,
            "max_width": null,
            "order": null,
            "_view_module_version": "1.2.0",
            "grid_template_areas": null,
            "object_position": null,
            "object_fit": null,
            "grid_auto_columns": null,
            "margin": null,
            "display": null,
            "left": null
          }
        },
        "447b47b3e9d04bd9be1191643843d5c9": {
          "model_module": "@jupyter-widgets/base",
          "model_name": "LayoutModel",
          "state": {
            "_view_name": "LayoutView",
            "grid_template_rows": null,
            "right": null,
            "justify_content": null,
            "_view_module": "@jupyter-widgets/base",
            "overflow": null,
            "_model_module_version": "1.2.0",
            "_view_count": null,
            "flex_flow": null,
            "width": null,
            "min_width": null,
            "border": null,
            "align_items": null,
            "bottom": null,
            "_model_module": "@jupyter-widgets/base",
            "top": null,
            "grid_column": null,
            "overflow_y": null,
            "overflow_x": null,
            "grid_auto_flow": null,
            "grid_area": null,
            "grid_template_columns": null,
            "flex": null,
            "_model_name": "LayoutModel",
            "justify_items": null,
            "grid_row": null,
            "max_height": null,
            "align_content": null,
            "visibility": null,
            "align_self": null,
            "height": null,
            "min_height": null,
            "padding": null,
            "grid_auto_rows": null,
            "grid_gap": null,
            "max_width": null,
            "order": null,
            "_view_module_version": "1.2.0",
            "grid_template_areas": null,
            "object_position": null,
            "object_fit": null,
            "grid_auto_columns": null,
            "margin": null,
            "display": null,
            "left": null
          }
        },
        "cfb95b75c73e4f06941a7f42be0d7e00": {
          "model_module": "@jupyter-widgets/controls",
          "model_name": "VBoxModel",
          "state": {
            "_view_name": "VBoxView",
            "_dom_classes": [],
            "_model_name": "VBoxModel",
            "_view_module": "@jupyter-widgets/controls",
            "_model_module_version": "1.5.0",
            "_view_count": null,
            "_view_module_version": "1.5.0",
            "box_style": "",
            "layout": "IPY_MODEL_305db79e218a42ccb42b21afdf57d850",
            "_model_module": "@jupyter-widgets/controls",
            "children": [
              "IPY_MODEL_cbbc7fadfe0444b7b397b9efead50f88",
              "IPY_MODEL_2129f192b71d4f228759c47c41ddc245",
              "IPY_MODEL_17968ff0d2c84f4b8a57e5f321647d5c",
              "IPY_MODEL_bfbc1cb98e1f468da27e565586758484"
            ]
          }
        },
        "305db79e218a42ccb42b21afdf57d850": {
          "model_module": "@jupyter-widgets/base",
          "model_name": "LayoutModel",
          "state": {
            "_view_name": "LayoutView",
            "grid_template_rows": null,
            "right": null,
            "justify_content": null,
            "_view_module": "@jupyter-widgets/base",
            "overflow": null,
            "_model_module_version": "1.2.0",
            "_view_count": null,
            "flex_flow": null,
            "width": null,
            "min_width": null,
            "border": null,
            "align_items": null,
            "bottom": null,
            "_model_module": "@jupyter-widgets/base",
            "top": null,
            "grid_column": null,
            "overflow_y": null,
            "overflow_x": null,
            "grid_auto_flow": null,
            "grid_area": null,
            "grid_template_columns": null,
            "flex": null,
            "_model_name": "LayoutModel",
            "justify_items": null,
            "grid_row": null,
            "max_height": null,
            "align_content": null,
            "visibility": null,
            "align_self": null,
            "height": null,
            "min_height": null,
            "padding": null,
            "grid_auto_rows": null,
            "grid_gap": null,
            "max_width": null,
            "order": null,
            "_view_module_version": "1.2.0",
            "grid_template_areas": null,
            "object_position": null,
            "object_fit": null,
            "grid_auto_columns": null,
            "margin": null,
            "display": null,
            "left": null
          }
        },
        "cbbc7fadfe0444b7b397b9efead50f88": {
          "model_module": "@jupyter-widgets/output",
          "model_name": "OutputModel",
          "state": {
            "_view_name": "OutputView",
            "msg_id": "",
            "_dom_classes": [],
            "_model_name": "OutputModel",
            "outputs": [
              {
                "output_type": "stream",
                "metadata": {
                  "tags": []
                },
                "text": "Complexité de fib_term(n): ?\n",
                "stream": "stdout"
              }
            ],
            "_view_module": "@jupyter-widgets/output",
            "_model_module_version": "1.0.0",
            "_view_count": null,
            "_view_module_version": "1.0.0",
            "layout": "IPY_MODEL_512848ca08a7446388f55965ccf35709",
            "_model_module": "@jupyter-widgets/output"
          }
        },
        "2129f192b71d4f228759c47c41ddc245": {
          "model_module": "@jupyter-widgets/controls",
          "model_name": "RadioButtonsModel",
          "state": {
            "_options_labels": [
              "O(n)",
              "O(2^n)"
            ],
            "_view_name": "RadioButtonsView",
            "style": "IPY_MODEL_69c3640ecdfc4ac283f37196ef909de4",
            "_dom_classes": [],
            "description": "",
            "_model_name": "RadioButtonsModel",
            "index": 0,
            "_view_module": "@jupyter-widgets/controls",
            "_model_module_version": "1.5.0",
            "_view_count": null,
            "disabled": false,
            "_view_module_version": "1.5.0",
            "description_tooltip": null,
            "_model_module": "@jupyter-widgets/controls",
            "layout": "IPY_MODEL_d49d727d42994b1ea1255a575591b6e0"
          }
        },
        "17968ff0d2c84f4b8a57e5f321647d5c": {
          "model_module": "@jupyter-widgets/controls",
          "model_name": "ButtonModel",
          "state": {
            "_view_name": "ButtonView",
            "style": "IPY_MODEL_dac436d9eecf4634848269beffbe0ca9",
            "_dom_classes": [],
            "description": "submit",
            "_model_name": "ButtonModel",
            "button_style": "",
            "_view_module": "@jupyter-widgets/controls",
            "_model_module_version": "1.5.0",
            "tooltip": "",
            "_view_count": null,
            "disabled": false,
            "_view_module_version": "1.5.0",
            "layout": "IPY_MODEL_42c962e4364c4c5f9f3b80314c0ab218",
            "_model_module": "@jupyter-widgets/controls",
            "icon": ""
          }
        },
        "bfbc1cb98e1f468da27e565586758484": {
          "model_module": "@jupyter-widgets/output",
          "model_name": "OutputModel",
          "state": {
            "_view_name": "OutputView",
            "msg_id": "",
            "_dom_classes": [],
            "_model_name": "OutputModel",
            "outputs": [],
            "_view_module": "@jupyter-widgets/output",
            "_model_module_version": "1.0.0",
            "_view_count": null,
            "_view_module_version": "1.0.0",
            "layout": "IPY_MODEL_4d53b949eae2498f9b7d29dd6f2ac01c",
            "_model_module": "@jupyter-widgets/output"
          }
        },
        "69c3640ecdfc4ac283f37196ef909de4": {
          "model_module": "@jupyter-widgets/controls",
          "model_name": "DescriptionStyleModel",
          "state": {
            "_view_name": "StyleView",
            "_model_name": "DescriptionStyleModel",
            "description_width": "",
            "_view_module": "@jupyter-widgets/base",
            "_model_module_version": "1.5.0",
            "_view_count": null,
            "_view_module_version": "1.2.0",
            "_model_module": "@jupyter-widgets/controls"
          }
        },
        "d49d727d42994b1ea1255a575591b6e0": {
          "model_module": "@jupyter-widgets/base",
          "model_name": "LayoutModel",
          "state": {
            "_view_name": "LayoutView",
            "grid_template_rows": null,
            "right": null,
            "justify_content": null,
            "_view_module": "@jupyter-widgets/base",
            "overflow": null,
            "_model_module_version": "1.2.0",
            "_view_count": null,
            "flex_flow": null,
            "width": null,
            "min_width": null,
            "border": null,
            "align_items": null,
            "bottom": null,
            "_model_module": "@jupyter-widgets/base",
            "top": null,
            "grid_column": null,
            "overflow_y": null,
            "overflow_x": null,
            "grid_auto_flow": null,
            "grid_area": null,
            "grid_template_columns": null,
            "flex": null,
            "_model_name": "LayoutModel",
            "justify_items": null,
            "grid_row": null,
            "max_height": null,
            "align_content": null,
            "visibility": null,
            "align_self": null,
            "height": null,
            "min_height": null,
            "padding": null,
            "grid_auto_rows": null,
            "grid_gap": null,
            "max_width": null,
            "order": null,
            "_view_module_version": "1.2.0",
            "grid_template_areas": null,
            "object_position": null,
            "object_fit": null,
            "grid_auto_columns": null,
            "margin": null,
            "display": null,
            "left": null
          }
        },
        "dac436d9eecf4634848269beffbe0ca9": {
          "model_module": "@jupyter-widgets/controls",
          "model_name": "ButtonStyleModel",
          "state": {
            "_view_name": "StyleView",
            "_model_name": "ButtonStyleModel",
            "_view_module": "@jupyter-widgets/base",
            "_model_module_version": "1.5.0",
            "_view_count": null,
            "button_color": null,
            "font_weight": "",
            "_view_module_version": "1.2.0",
            "_model_module": "@jupyter-widgets/controls"
          }
        },
        "42c962e4364c4c5f9f3b80314c0ab218": {
          "model_module": "@jupyter-widgets/base",
          "model_name": "LayoutModel",
          "state": {
            "_view_name": "LayoutView",
            "grid_template_rows": null,
            "right": null,
            "justify_content": null,
            "_view_module": "@jupyter-widgets/base",
            "overflow": null,
            "_model_module_version": "1.2.0",
            "_view_count": null,
            "flex_flow": null,
            "width": null,
            "min_width": null,
            "border": null,
            "align_items": null,
            "bottom": null,
            "_model_module": "@jupyter-widgets/base",
            "top": null,
            "grid_column": null,
            "overflow_y": null,
            "overflow_x": null,
            "grid_auto_flow": null,
            "grid_area": null,
            "grid_template_columns": null,
            "flex": null,
            "_model_name": "LayoutModel",
            "justify_items": null,
            "grid_row": null,
            "max_height": null,
            "align_content": null,
            "visibility": null,
            "align_self": null,
            "height": null,
            "min_height": null,
            "padding": null,
            "grid_auto_rows": null,
            "grid_gap": null,
            "max_width": null,
            "order": null,
            "_view_module_version": "1.2.0",
            "grid_template_areas": null,
            "object_position": null,
            "object_fit": null,
            "grid_auto_columns": null,
            "margin": null,
            "display": null,
            "left": null
          }
        },
        "512848ca08a7446388f55965ccf35709": {
          "model_module": "@jupyter-widgets/base",
          "model_name": "LayoutModel",
          "state": {
            "_view_name": "LayoutView",
            "grid_template_rows": null,
            "right": null,
            "justify_content": null,
            "_view_module": "@jupyter-widgets/base",
            "overflow": null,
            "_model_module_version": "1.2.0",
            "_view_count": null,
            "flex_flow": null,
            "width": null,
            "min_width": null,
            "border": null,
            "align_items": null,
            "bottom": null,
            "_model_module": "@jupyter-widgets/base",
            "top": null,
            "grid_column": null,
            "overflow_y": null,
            "overflow_x": null,
            "grid_auto_flow": null,
            "grid_area": null,
            "grid_template_columns": null,
            "flex": null,
            "_model_name": "LayoutModel",
            "justify_items": null,
            "grid_row": null,
            "max_height": null,
            "align_content": null,
            "visibility": null,
            "align_self": null,
            "height": null,
            "min_height": null,
            "padding": null,
            "grid_auto_rows": null,
            "grid_gap": null,
            "max_width": null,
            "order": null,
            "_view_module_version": "1.2.0",
            "grid_template_areas": null,
            "object_position": null,
            "object_fit": null,
            "grid_auto_columns": null,
            "margin": null,
            "display": null,
            "left": null
          }
        },
        "4d53b949eae2498f9b7d29dd6f2ac01c": {
          "model_module": "@jupyter-widgets/base",
          "model_name": "LayoutModel",
          "state": {
            "_view_name": "LayoutView",
            "grid_template_rows": null,
            "right": null,
            "justify_content": null,
            "_view_module": "@jupyter-widgets/base",
            "overflow": null,
            "_model_module_version": "1.2.0",
            "_view_count": null,
            "flex_flow": null,
            "width": null,
            "min_width": null,
            "border": null,
            "align_items": null,
            "bottom": null,
            "_model_module": "@jupyter-widgets/base",
            "top": null,
            "grid_column": null,
            "overflow_y": null,
            "overflow_x": null,
            "grid_auto_flow": null,
            "grid_area": null,
            "grid_template_columns": null,
            "flex": null,
            "_model_name": "LayoutModel",
            "justify_items": null,
            "grid_row": null,
            "max_height": null,
            "align_content": null,
            "visibility": null,
            "align_self": null,
            "height": null,
            "min_height": null,
            "padding": null,
            "grid_auto_rows": null,
            "grid_gap": null,
            "max_width": null,
            "order": null,
            "_view_module_version": "1.2.0",
            "grid_template_areas": null,
            "object_position": null,
            "object_fit": null,
            "grid_auto_columns": null,
            "margin": null,
            "display": null,
            "left": null
          }
        },
        "dff0c33f733e4447b98f3d5386043e82": {
          "model_module": "@jupyter-widgets/controls",
          "model_name": "VBoxModel",
          "state": {
            "_view_name": "VBoxView",
            "_dom_classes": [],
            "_model_name": "VBoxModel",
            "_view_module": "@jupyter-widgets/controls",
            "_model_module_version": "1.5.0",
            "_view_count": null,
            "_view_module_version": "1.5.0",
            "box_style": "",
            "layout": "IPY_MODEL_2315b337b0da418e9de09e7348316ec0",
            "_model_module": "@jupyter-widgets/controls",
            "children": [
              "IPY_MODEL_efd93e48e4bf48c597d7a60b7d84a72a",
              "IPY_MODEL_99d0b19c3b5645758ac02a1fa2fe3eb0",
              "IPY_MODEL_2a460e2afcb840948618b21db4529d5c",
              "IPY_MODEL_602c5c3d89ea4f6a819cb36edfe5f419"
            ]
          }
        },
        "2315b337b0da418e9de09e7348316ec0": {
          "model_module": "@jupyter-widgets/base",
          "model_name": "LayoutModel",
          "state": {
            "_view_name": "LayoutView",
            "grid_template_rows": null,
            "right": null,
            "justify_content": null,
            "_view_module": "@jupyter-widgets/base",
            "overflow": null,
            "_model_module_version": "1.2.0",
            "_view_count": null,
            "flex_flow": null,
            "width": null,
            "min_width": null,
            "border": null,
            "align_items": null,
            "bottom": null,
            "_model_module": "@jupyter-widgets/base",
            "top": null,
            "grid_column": null,
            "overflow_y": null,
            "overflow_x": null,
            "grid_auto_flow": null,
            "grid_area": null,
            "grid_template_columns": null,
            "flex": null,
            "_model_name": "LayoutModel",
            "justify_items": null,
            "grid_row": null,
            "max_height": null,
            "align_content": null,
            "visibility": null,
            "align_self": null,
            "height": null,
            "min_height": null,
            "padding": null,
            "grid_auto_rows": null,
            "grid_gap": null,
            "max_width": null,
            "order": null,
            "_view_module_version": "1.2.0",
            "grid_template_areas": null,
            "object_position": null,
            "object_fit": null,
            "grid_auto_columns": null,
            "margin": null,
            "display": null,
            "left": null
          }
        },
        "efd93e48e4bf48c597d7a60b7d84a72a": {
          "model_module": "@jupyter-widgets/output",
          "model_name": "OutputModel",
          "state": {
            "_view_name": "OutputView",
            "msg_id": "",
            "_dom_classes": [],
            "_model_name": "OutputModel",
            "outputs": [
              {
                "output_type": "stream",
                "metadata": {
                  "tags": []
                },
                "text": "Complexité de fib_it(n): ?\n",
                "stream": "stdout"
              }
            ],
            "_view_module": "@jupyter-widgets/output",
            "_model_module_version": "1.0.0",
            "_view_count": null,
            "_view_module_version": "1.0.0",
            "layout": "IPY_MODEL_81fa1ec97c9e49688d0d4c19e24779f8",
            "_model_module": "@jupyter-widgets/output"
          }
        },
        "99d0b19c3b5645758ac02a1fa2fe3eb0": {
          "model_module": "@jupyter-widgets/controls",
          "model_name": "RadioButtonsModel",
          "state": {
            "_options_labels": [
              "O(n)",
              "O(2^n)"
            ],
            "_view_name": "RadioButtonsView",
            "style": "IPY_MODEL_fbe0c096a20d4e60a2a9b271b05ab9cf",
            "_dom_classes": [],
            "description": "",
            "_model_name": "RadioButtonsModel",
            "index": 0,
            "_view_module": "@jupyter-widgets/controls",
            "_model_module_version": "1.5.0",
            "_view_count": null,
            "disabled": false,
            "_view_module_version": "1.5.0",
            "description_tooltip": null,
            "_model_module": "@jupyter-widgets/controls",
            "layout": "IPY_MODEL_6ed2be5f0e984510b09616becc484a70"
          }
        },
        "2a460e2afcb840948618b21db4529d5c": {
          "model_module": "@jupyter-widgets/controls",
          "model_name": "ButtonModel",
          "state": {
            "_view_name": "ButtonView",
            "style": "IPY_MODEL_b1ef7a4019b54776b3155cde82d8be56",
            "_dom_classes": [],
            "description": "submit",
            "_model_name": "ButtonModel",
            "button_style": "",
            "_view_module": "@jupyter-widgets/controls",
            "_model_module_version": "1.5.0",
            "tooltip": "",
            "_view_count": null,
            "disabled": false,
            "_view_module_version": "1.5.0",
            "layout": "IPY_MODEL_9392d16e7c3d4346b5bbe022d2e63d05",
            "_model_module": "@jupyter-widgets/controls",
            "icon": ""
          }
        },
        "602c5c3d89ea4f6a819cb36edfe5f419": {
          "model_module": "@jupyter-widgets/output",
          "model_name": "OutputModel",
          "state": {
            "_view_name": "OutputView",
            "msg_id": "",
            "_dom_classes": [],
            "_model_name": "OutputModel",
            "outputs": [],
            "_view_module": "@jupyter-widgets/output",
            "_model_module_version": "1.0.0",
            "_view_count": null,
            "_view_module_version": "1.0.0",
            "layout": "IPY_MODEL_21b96961b68b470fabc7284a18b93f40",
            "_model_module": "@jupyter-widgets/output"
          }
        },
        "fbe0c096a20d4e60a2a9b271b05ab9cf": {
          "model_module": "@jupyter-widgets/controls",
          "model_name": "DescriptionStyleModel",
          "state": {
            "_view_name": "StyleView",
            "_model_name": "DescriptionStyleModel",
            "description_width": "",
            "_view_module": "@jupyter-widgets/base",
            "_model_module_version": "1.5.0",
            "_view_count": null,
            "_view_module_version": "1.2.0",
            "_model_module": "@jupyter-widgets/controls"
          }
        },
        "6ed2be5f0e984510b09616becc484a70": {
          "model_module": "@jupyter-widgets/base",
          "model_name": "LayoutModel",
          "state": {
            "_view_name": "LayoutView",
            "grid_template_rows": null,
            "right": null,
            "justify_content": null,
            "_view_module": "@jupyter-widgets/base",
            "overflow": null,
            "_model_module_version": "1.2.0",
            "_view_count": null,
            "flex_flow": null,
            "width": null,
            "min_width": null,
            "border": null,
            "align_items": null,
            "bottom": null,
            "_model_module": "@jupyter-widgets/base",
            "top": null,
            "grid_column": null,
            "overflow_y": null,
            "overflow_x": null,
            "grid_auto_flow": null,
            "grid_area": null,
            "grid_template_columns": null,
            "flex": null,
            "_model_name": "LayoutModel",
            "justify_items": null,
            "grid_row": null,
            "max_height": null,
            "align_content": null,
            "visibility": null,
            "align_self": null,
            "height": null,
            "min_height": null,
            "padding": null,
            "grid_auto_rows": null,
            "grid_gap": null,
            "max_width": null,
            "order": null,
            "_view_module_version": "1.2.0",
            "grid_template_areas": null,
            "object_position": null,
            "object_fit": null,
            "grid_auto_columns": null,
            "margin": null,
            "display": null,
            "left": null
          }
        },
        "b1ef7a4019b54776b3155cde82d8be56": {
          "model_module": "@jupyter-widgets/controls",
          "model_name": "ButtonStyleModel",
          "state": {
            "_view_name": "StyleView",
            "_model_name": "ButtonStyleModel",
            "_view_module": "@jupyter-widgets/base",
            "_model_module_version": "1.5.0",
            "_view_count": null,
            "button_color": null,
            "font_weight": "",
            "_view_module_version": "1.2.0",
            "_model_module": "@jupyter-widgets/controls"
          }
        },
        "9392d16e7c3d4346b5bbe022d2e63d05": {
          "model_module": "@jupyter-widgets/base",
          "model_name": "LayoutModel",
          "state": {
            "_view_name": "LayoutView",
            "grid_template_rows": null,
            "right": null,
            "justify_content": null,
            "_view_module": "@jupyter-widgets/base",
            "overflow": null,
            "_model_module_version": "1.2.0",
            "_view_count": null,
            "flex_flow": null,
            "width": null,
            "min_width": null,
            "border": null,
            "align_items": null,
            "bottom": null,
            "_model_module": "@jupyter-widgets/base",
            "top": null,
            "grid_column": null,
            "overflow_y": null,
            "overflow_x": null,
            "grid_auto_flow": null,
            "grid_area": null,
            "grid_template_columns": null,
            "flex": null,
            "_model_name": "LayoutModel",
            "justify_items": null,
            "grid_row": null,
            "max_height": null,
            "align_content": null,
            "visibility": null,
            "align_self": null,
            "height": null,
            "min_height": null,
            "padding": null,
            "grid_auto_rows": null,
            "grid_gap": null,
            "max_width": null,
            "order": null,
            "_view_module_version": "1.2.0",
            "grid_template_areas": null,
            "object_position": null,
            "object_fit": null,
            "grid_auto_columns": null,
            "margin": null,
            "display": null,
            "left": null
          }
        },
        "81fa1ec97c9e49688d0d4c19e24779f8": {
          "model_module": "@jupyter-widgets/base",
          "model_name": "LayoutModel",
          "state": {
            "_view_name": "LayoutView",
            "grid_template_rows": null,
            "right": null,
            "justify_content": null,
            "_view_module": "@jupyter-widgets/base",
            "overflow": null,
            "_model_module_version": "1.2.0",
            "_view_count": null,
            "flex_flow": null,
            "width": null,
            "min_width": null,
            "border": null,
            "align_items": null,
            "bottom": null,
            "_model_module": "@jupyter-widgets/base",
            "top": null,
            "grid_column": null,
            "overflow_y": null,
            "overflow_x": null,
            "grid_auto_flow": null,
            "grid_area": null,
            "grid_template_columns": null,
            "flex": null,
            "_model_name": "LayoutModel",
            "justify_items": null,
            "grid_row": null,
            "max_height": null,
            "align_content": null,
            "visibility": null,
            "align_self": null,
            "height": null,
            "min_height": null,
            "padding": null,
            "grid_auto_rows": null,
            "grid_gap": null,
            "max_width": null,
            "order": null,
            "_view_module_version": "1.2.0",
            "grid_template_areas": null,
            "object_position": null,
            "object_fit": null,
            "grid_auto_columns": null,
            "margin": null,
            "display": null,
            "left": null
          }
        },
        "21b96961b68b470fabc7284a18b93f40": {
          "model_module": "@jupyter-widgets/base",
          "model_name": "LayoutModel",
          "state": {
            "_view_name": "LayoutView",
            "grid_template_rows": null,
            "right": null,
            "justify_content": null,
            "_view_module": "@jupyter-widgets/base",
            "overflow": null,
            "_model_module_version": "1.2.0",
            "_view_count": null,
            "flex_flow": null,
            "width": null,
            "min_width": null,
            "border": null,
            "align_items": null,
            "bottom": null,
            "_model_module": "@jupyter-widgets/base",
            "top": null,
            "grid_column": null,
            "overflow_y": null,
            "overflow_x": null,
            "grid_auto_flow": null,
            "grid_area": null,
            "grid_template_columns": null,
            "flex": null,
            "_model_name": "LayoutModel",
            "justify_items": null,
            "grid_row": null,
            "max_height": null,
            "align_content": null,
            "visibility": null,
            "align_self": null,
            "height": null,
            "min_height": null,
            "padding": null,
            "grid_auto_rows": null,
            "grid_gap": null,
            "max_width": null,
            "order": null,
            "_view_module_version": "1.2.0",
            "grid_template_areas": null,
            "object_position": null,
            "object_fit": null,
            "grid_auto_columns": null,
            "margin": null,
            "display": null,
            "left": null
          }
        }
      }
    }
  },
  "cells": [
    {
      "cell_type": "markdown",
      "metadata": {
        "id": "view-in-github",
        "colab_type": "text"
      },
      "source": [
        "<a href=\"https://colab.research.google.com/github/hala54/Recursivit-L2-DMJupterNoteBook/blob/main/Recursivit%C3%A9_L2_DM.ipynb\" target=\"_parent\"><img src=\"https://colab.research.google.com/assets/colab-badge.svg\" alt=\"Open In Colab\"/></a>"
      ]
    },
    {
      "cell_type": "markdown",
      "metadata": {
        "id": "qGLEGSHiy6X2"
      },
      "source": [
        "# Corrigé Devoir Maison sur la récursivité "
      ]
    },
    {
      "cell_type": "markdown",
      "metadata": {
        "id": "Uj10mcNljdaA"
      },
      "source": [
        " ![animiertes-gif-von-online-umwandeln-de.gif](data:image/gif;base64,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)\n",
        "\n",
        "\n"
      ]
    },
    {
      "cell_type": "code",
      "metadata": {
        "colab": {
          "base_uri": "https://localhost:8080/"
        },
        "id": "-Nse7QAvdDbk",
        "cellView": "form",
        "outputId": "64b5f5f7-7bbd-439e-e5a9-d5879c2c523b"
      },
      "source": [
        "#@title\n",
        "!pip install recviz\n",
        "\n",
        "import ipywidgets as widgets\n",
        "import sys\n",
        "from IPython.display import display\n",
        "from IPython.display import clear_output\n",
        "\n",
        "def create_multipleChoice_widget(description, options, correct_answer):\n",
        "    if correct_answer not in options:\n",
        "        options.append(correct_answer)\n",
        "    \n",
        "    correct_answer_index = options.index(correct_answer)\n",
        "    \n",
        "    radio_options = [(words, i) for i, words in enumerate(options)]\n",
        "    alternativ = widgets.RadioButtons(\n",
        "        options = radio_options,\n",
        "        description = '',\n",
        "        disabled = False\n",
        "    )\n",
        "    \n",
        "    description_out = widgets.Output()\n",
        "    with description_out:\n",
        "        print(description)\n",
        "        \n",
        "    feedback_out = widgets.Output()\n",
        "\n",
        "    def check_selection(b):\n",
        "        a = int(alternativ.value)\n",
        "        if a==correct_answer_index:\n",
        "            s = \"Perdu, vous devez revoir le rappel, déinition 1.\" + '\\x1b[0m' +\"\\n\" #red color\n",
        "        else:\n",
        "            s = \"Bravo, vous pouvez continuer. \" + '\\x1b[0m' +\"\\n\" #green color\n",
        "        with feedback_out:\n",
        "            clear_output()\n",
        "            print(s)\n",
        "        return\n",
        "    \n",
        "    check = widgets.Button(description=\"submit\")\n",
        "    check.on_click(check_selection)\n",
        "    \n",
        "    \n",
        "    return widgets.VBox([description_out, alternativ, check, feedback_out])"
      ],
      "execution_count": 1,
      "outputs": [
        {
          "output_type": "stream",
          "text": [
            "Collecting recviz\n",
            "  Downloading https://files.pythonhosted.org/packages/39/a2/1c847271312d1b494700a44934a5a32d6ad3f8657fd8ab80b7973ca59b2e/recviz-0.0.4-py3-none-any.whl\n",
            "Installing collected packages: recviz\n",
            "Successfully installed recviz-0.0.4\n"
          ],
          "name": "stdout"
        }
      ]
    },
    {
      "cell_type": "markdown",
      "metadata": {
        "id": "nXBMfyGowv89"
      },
      "source": [
        "L'objectif de DM est de comparer complexité et performance d'un algorithme récusif naif vs terminal vs itératif.\n",
        "---\n",
        "\n"
      ]
    },
    {
      "cell_type": "markdown",
      "metadata": {
        "id": "ldhwLjqY09wW"
      },
      "source": [
        "Le document est composé de deux parties:\n",
        "\n",
        "1.   Rappel rapide sur la récursivité\n",
        "2.   Correction : Répondre aux questions avant de regarder la correction. \n",
        "\n",
        "N'héstiez pas à jour avec le code et consulter les sites recommendés en cas de difficulté.  "
      ]
    },
    {
      "cell_type": "markdown",
      "metadata": {
        "id": "fI_liXZzrPWd"
      },
      "source": [
        "## Rappel: la récursivité\n",
        "\n",
        "**Une fonction récusive** est une fonction qui fait appel à elle-même.\n",
        "\n",
        "# Caractéristiques principales\n",
        "\n",
        "L'exemple précédent montre **les  deux caractéristiques principales** d'une définition récursive:\n",
        "\n",
        "\n",
        "1.   Présence d'un cas de **base** : qui **ne fait pas appel** à la fonction (lignes 2-3). Ce cas est important car il donne la condition d'arrêt de la fonction.\n",
        "2.  Présence d'un appel **récursif** : appel de la fonction factorielle (ligne 5) mais avec *un paramètre plus petit  n-1*\n",
        "\n",
        "**Exemple 1:**  La fonction récusive suivante calculer la factorielle (n!) d'un entier n, n $>=0$.\n",
        "\n"
      ]
    },
    {
      "cell_type": "code",
      "metadata": {
        "id": "cywUESWhVuXa",
        "colab": {
          "base_uri": "https://localhost:8080/"
        },
        "outputId": "e45bc708-02f1-4f3a-f5e2-aaac989f2ff7"
      },
      "source": [
        "def factorielle(n):\n",
        "  print(f\"appel avec {n}\")\n",
        "  if n==0:\n",
        "    return 1\n",
        "  else: \n",
        "    return n*factorielle(n-1)\n",
        "    \n",
        "print(f\"Fact(4)={factorielle(4)}\")"
      ],
      "execution_count": 16,
      "outputs": [
        {
          "output_type": "stream",
          "text": [
            "appel avec 4\n",
            "appel avec 3\n",
            "appel avec 2\n",
            "appel avec 1\n",
            "appel avec 0\n",
            "Fact(4)=24\n"
          ],
          "name": "stdout"
        }
      ]
    },
    {
      "cell_type": "markdown",
      "metadata": {
        "id": "Sh4GEDGUx0F-"
      },
      "source": [
        ""
      ]
    },
    {
      "cell_type": "markdown",
      "metadata": {
        "id": "IUmthu7i3dTA"
      },
      "source": [
        "# Corrigé DM récursivité"
      ]
    },
    {
      "cell_type": "markdown",
      "metadata": {
        "id": "Hb9JL74b1pUP"
      },
      "source": [
        "La suite de Fibonacci notée Fn est définie par:\n",
        "\n",
        "* $F_0=0$\n",
        "* $F_1=1$\n",
        "* $F_n=F_{n-1}+F_{n-2}$ pour $n>=2$\n",
        "\n",
        "        "
      ]
    },
    {
      "cell_type": "markdown",
      "metadata": {
        "id": "syAm4uhy598S"
      },
      "source": [
        "# Question 1: Ecrivez une fonction python recursive 'fibo_rec' calculant $F_n$"
      ]
    },
    {
      "cell_type": "code",
      "metadata": {
        "colab": {
          "base_uri": "https://localhost:8080/"
        },
        "id": "7Moh3dbd6M7F",
        "outputId": "7f5f921c-beef-4905-f882-0b56e73bf7e4"
      },
      "source": [
        "def fibo_rec(n): \n",
        "  if n <=1:\n",
        "     return n\n",
        "  else :\n",
        "    return (fibo_rec(n-1) + fibo_rec(n-2))\n",
        "  \n",
        "print(fibo_rec(5))"
      ],
      "execution_count": 3,
      "outputs": [
        {
          "output_type": "stream",
          "text": [
            "5\n"
          ],
          "name": "stdout"
        }
      ]
    },
    {
      "cell_type": "markdown",
      "metadata": {
        "id": "w0m7cIau50uu"
      },
      "source": [
        "# Question 2:  Tracez fibo_rec(5). Combien cet appel génère-t-il d'appels récursifs? Combien au maximum y-a-il d'appels imbriqués ?\n",
        "\n",
        "\n",
        "\n",
        "\n"
      ]
    },
    {
      "cell_type": "markdown",
      "metadata": {
        "id": "2HrGWY59M30h"
      },
      "source": [
        "**Hints**: exécuter la fonction fibonacci suivante pour voir la trace d'exécution.  -> correspond à un appel et <- correspond à un retour de valeur."
      ]
    },
    {
      "cell_type": "code",
      "metadata": {
        "id": "izwx_27tq8hB",
        "colab": {
          "base_uri": "https://localhost:8080/"
        },
        "outputId": "620ccd84-a5f6-4815-8dc2-e7a0b4c2f4e9"
      },
      "source": [
        "from recviz import recviz\n",
        "@recviz\n",
        "\n",
        "def fibo(n): \n",
        "  if n <=1:\n",
        "     return n\n",
        "  else :\n",
        "    return (fibo(n-1) + fibo(n-2))\n",
        "\n",
        "print(fibo(5))"
      ],
      "execution_count": 17,
      "outputs": [
        {
          "output_type": "stream",
          "text": [
            " -> fibo(5)\n",
            "    -> fibo(4)\n",
            "       -> fibo(3)\n",
            "          -> fibo(2)\n",
            "             -> fibo(1)\n",
            "             <- 1\n",
            "             -> fibo(0)\n",
            "             <- 0\n",
            "          <- 1\n",
            "          -> fibo(1)\n",
            "          <- 1\n",
            "       <- 2\n",
            "       -> fibo(2)\n",
            "          -> fibo(1)\n",
            "          <- 1\n",
            "          -> fibo(0)\n",
            "          <- 0\n",
            "       <- 1\n",
            "    <- 3\n",
            "    -> fibo(3)\n",
            "       -> fibo(2)\n",
            "          -> fibo(1)\n",
            "          <- 1\n",
            "          -> fibo(0)\n",
            "          <- 0\n",
            "       <- 1\n",
            "       -> fibo(1)\n",
            "       <- 1\n",
            "    <- 2\n",
            " <- 5\n",
            "5\n"
          ],
          "name": "stdout"
        }
      ]
    },
    {
      "cell_type": "markdown",
      "metadata": {
        "id": "lRvHbW_WQdeb"
      },
      "source": [
        "Un appel à fibo(5) génère 14 appels récursifs. Le nombre maximum d'appels imbriqués est de 4.\n",
        "\n",
        "Les appels récusifs ne se partagent pas. Par exemple, fibo(5) et fibo(4) ne partagent pas l'appel à fibo(3).\n",
        "\n",
        "*d*'une manière générale, quand on calcule fibo(n), l'imbrication maximale sera $n-1$, et le nombre d'appels récursifs sera : $2 * fibo(n) -2$. \n",
        "\n",
        "Si vous pouvez de difficulté avec cette question, vous pouvez regader la vidéo: [Khan Academy](https://www.youtube.com/watch?v=zg-ddPbzcKM)"
      ]
    },
    {
      "cell_type": "markdown",
      "metadata": {
        "id": "UWYhtOoYih8R"
      },
      "source": [
        "# Question 3:  Quelle est la complexité de  fib_rec(n) ?"
      ]
    },
    {
      "cell_type": "code",
      "metadata": {
        "id": "y2KsN8IkZUq4",
        "colab": {
          "base_uri": "https://localhost:8080/",
          "height": 145,
          "referenced_widgets": [
            "a33dc3cc9a56446ca9aa259261b6096d",
            "196b0ea1bea94f8ea6aa5caa22d22995",
            "b2f617dfa10e4049a7f91ecf828046dd",
            "ef91d33aa76548fbae201217fb653184",
            "670622e096ce4dc09ef2517768175acc",
            "4b653c6fdd3b43bfb2c03b509f135fbf",
            "f9831dd8dc134cc193bd82e058878d9d",
            "31ee60349b5f4d46a247a45d2ad859e8",
            "f1903972c0bf4417a40b3f6679acd971",
            "3818b23fcbca4cb487b9cb224f021443",
            "fad906e9c3214f2e96640b050d135a73",
            "447b47b3e9d04bd9be1191643843d5c9"
          ]
        },
        "cellView": "form",
        "outputId": "bbb276db-d130-4dd4-8c07-5e27699c4ab6"
      },
      "source": [
        "#@title\n",
        "\n",
        "Q1 = create_multipleChoice_widget('Complexité de fib(n): ?',['O(n)','O(2^n)'],'O(n)')\n",
        "display(Q1)"
      ],
      "execution_count": 5,
      "outputs": [
        {
          "output_type": "display_data",
          "data": {
            "application/vnd.jupyter.widget-view+json": {
              "model_id": "a33dc3cc9a56446ca9aa259261b6096d",
              "version_minor": 0,
              "version_major": 2
            },
            "text/plain": [
              "VBox(children=(Output(), RadioButtons(options=(('O(n)', 0), ('O(2^n)', 1)), value=0), Button(description='subm…"
            ]
          },
          "metadata": {
            "tags": []
          }
        }
      ]
    },
    {
      "cell_type": "markdown",
      "metadata": {
        "id": "LNkyInhkD_8p"
      },
      "source": [
        "# Question 4: Tracez la courbe de temps d'exécution fibo_rec en ms. Est-elle conforme avec la complexité de fibo_rec ?"
      ]
    },
    {
      "cell_type": "code",
      "metadata": {
        "colab": {
          "base_uri": "https://localhost:8080/",
          "height": 385
        },
        "id": "wHRAvbmRivAD",
        "outputId": "b664d417-9b66-47bb-b94b-2f6048cf8566"
      },
      "source": [
        "%matplotlib inline\n",
        "import time\n",
        "import matplotlib.pyplot as plt\n",
        "\n",
        "fig=plt.figure()\n",
        "\n",
        "rec = []\n",
        "x=[]\n",
        "for i in range(20):\n",
        "  x.append(i)\n",
        "  start=time.monotonic()\n",
        "  fibo_rec(i)\n",
        "  t=(time.monotonic()-start)*1000\n",
        "  rec.append(t)\n",
        "\n",
        "plt.plot(rec,linestyle='solid',color='blue')\n",
        "ax=plt.axes()\n",
        "ax.set(xlabel=\"fib(n)\",ylabel=\"time in ms\",title=\"execution time of fib(n)\")\n"
      ],
      "execution_count": 18,
      "outputs": [
        {
          "output_type": "stream",
          "text": [
            "/usr/local/lib/python3.7/dist-packages/ipykernel_launcher.py:17: MatplotlibDeprecationWarning: Adding an axes using the same arguments as a previous axes currently reuses the earlier instance.  In a future version, a new instance will always be created and returned.  Meanwhile, this warning can be suppressed, and the future behavior ensured, by passing a unique label to each axes instance.\n"
          ],
          "name": "stderr"
        },
        {
          "output_type": "execute_result",
          "data": {
            "text/plain": [
              "[Text(0, 0.5, 'time in ms'),\n",
              " Text(0.5, 0, 'fib(n)'),\n",
              " Text(0.5, 1.0, 'execution time of fib(n)')]"
            ]
          },
          "metadata": {
            "tags": []
          },
          "execution_count": 18
        },
        {
          "output_type": "display_data",
          "data": {
            "image/png": "[encoded data removed]",
            "text/plain": [
              "<Figure size 432x288 with 1 Axes>"
            ]
          },
          "metadata": {
            "tags": [],
            "needs_background": "light"
          }
        }
      ]
    },
    {
      "cell_type": "markdown",
      "metadata": {
        "id": "O7MOlOnQ-Wdq"
      },
      "source": [
        "On peut se rendre compte facilement du coté exponentiel de fibo_rec. Ci-dessous, on trace le temps d'execution de fibo_rec en fonction de $n$. On voit bien apparaitre le coté exponentiel par rapport à $n$."
      ]
    },
    {
      "cell_type": "markdown",
      "metadata": {
        "id": "pRusG78kUduQ"
      },
      "source": [
        "# Question 5: fibo_rec est-elle terminale? Si non, écrivez une fonction recursive terminale calculant $F_n$."
      ]
    },
    {
      "cell_type": "markdown",
      "metadata": {
        "id": "qj_e-Nq7U_1d"
      },
      "source": [
        "**Réponse** L'algorithme n'est pas terminal car pour retourner une valeur en ligne 8, on fait deux appels récursifs dont on additionne le résultat. La ligne 8 est équivalent à:\n",
        "* tmp1= Fibb(n-1)\n",
        "* tmp2= Fibb(n-2)\n",
        "* retourner temp1+tmp2\n",
        "\n",
        "Si vous n'avez pas la bonne réponse, vous pouvez consulter [Cours récusivité Unisciel ](https://ressources.unisciel.fr/algoprog/s33recur/emodules/rc00macours1/co/rc00macours1_web.html)\n"
      ]
    },
    {
      "cell_type": "code",
      "metadata": {
        "colab": {
          "base_uri": "https://localhost:8080/"
        },
        "id": "rdXNyzrDy9HJ",
        "outputId": "5250a1e9-fa1e-4d8b-f85d-28e12ed8d27a"
      },
      "source": [
        "# une version terminale de Fibonacci\n",
        "def fibRt(n,a,b):\n",
        "  return a if (n==1) else fibRt(n-1,a+b,a)\n",
        "\n",
        "def fibo_term(n):\n",
        "  return 0 if (n==0) else fibRt(n,1,0)\n",
        "\n",
        "fibo_term(5)"
      ],
      "execution_count": 7,
      "outputs": [
        {
          "output_type": "execute_result",
          "data": {
            "text/plain": [
              "5"
            ]
          },
          "metadata": {
            "tags": []
          },
          "execution_count": 7
        }
      ]
    },
    {
      "cell_type": "markdown",
      "metadata": {
        "id": "pTffzX--88Vw"
      },
      "source": [
        "# Question 6: Quelle est la complexité de fibo_term(n)?"
      ]
    },
    {
      "cell_type": "code",
      "metadata": {
        "colab": {
          "base_uri": "https://localhost:8080/",
          "height": 111,
          "referenced_widgets": [
            "cfb95b75c73e4f06941a7f42be0d7e00",
            "305db79e218a42ccb42b21afdf57d850",
            "cbbc7fadfe0444b7b397b9efead50f88",
            "2129f192b71d4f228759c47c41ddc245",
            "17968ff0d2c84f4b8a57e5f321647d5c",
            "bfbc1cb98e1f468da27e565586758484",
            "69c3640ecdfc4ac283f37196ef909de4",
            "d49d727d42994b1ea1255a575591b6e0",
            "dac436d9eecf4634848269beffbe0ca9",
            "42c962e4364c4c5f9f3b80314c0ab218",
            "512848ca08a7446388f55965ccf35709",
            "4d53b949eae2498f9b7d29dd6f2ac01c"
          ]
        },
        "id": "3LhT333m9Fv2",
        "cellView": "form",
        "outputId": "cd783e3c-0e10-4b8a-cdfb-899c35df108b"
      },
      "source": [
        "#@title\n",
        "\n",
        "Q1 = create_multipleChoice_widget('Complexité de fib_term(n): ?',['O(n)','O(2^n)'],'O(n)')\n",
        "display(Q1)"
      ],
      "execution_count": 8,
      "outputs": [
        {
          "output_type": "display_data",
          "data": {
            "application/vnd.jupyter.widget-view+json": {
              "model_id": "cfb95b75c73e4f06941a7f42be0d7e00",
              "version_minor": 0,
              "version_major": 2
            },
            "text/plain": [
              "VBox(children=(Output(), RadioButtons(options=(('O(n)', 0), ('O(2^n)', 1)), value=0), Button(description='subm…"
            ]
          },
          "metadata": {
            "tags": []
          }
        }
      ]
    },
    {
      "cell_type": "markdown",
      "metadata": {
        "id": "4_2wUS-qFwFT"
      },
      "source": [
        "# Question 7: Tracez la coubre de temps d'exécution en de fibo_term(n).\n",
        "\n"
      ]
    },
    {
      "cell_type": "markdown",
      "metadata": {
        "id": "OjkfBXxE_YeA"
      },
      "source": [
        "On mesure ci-dessous le temps pris par fibo_term(n). Comparez les valeurs obtenues avec la courbe précédente."
      ]
    },
    {
      "cell_type": "code",
      "metadata": {
        "colab": {
          "base_uri": "https://localhost:8080/",
          "height": 402
        },
        "id": "56lGA-FZ_Jud",
        "outputId": "b1bb4cc3-b3c3-4ecd-eb39-2fed74a54107"
      },
      "source": [
        "%matplotlib inline\n",
        "\n",
        "fig=plt.figure()\n",
        "\n",
        "term = []\n",
        "for i in range(20):\n",
        "  start=time.monotonic()\n",
        "  fibo_term(i)\n",
        "  t=(time.monotonic()-start)*1000\n",
        "  term.append(t)\n",
        "\n",
        "plt.plot(term,linestyle='solid',color='blue')\n",
        "ax=plt.axes()\n",
        "ax.set(xlabel=\"fib(n)\",ylabel=\"time in ms\",title=\"execution time of fibo_term(n)\")\n"
      ],
      "execution_count": 19,
      "outputs": [
        {
          "output_type": "stream",
          "text": [
            "/usr/local/lib/python3.7/dist-packages/ipykernel_launcher.py:13: MatplotlibDeprecationWarning: Adding an axes using the same arguments as a previous axes currently reuses the earlier instance.  In a future version, a new instance will always be created and returned.  Meanwhile, this warning can be suppressed, and the future behavior ensured, by passing a unique label to each axes instance.\n",
            "  del sys.path[0]\n"
          ],
          "name": "stderr"
        },
        {
          "output_type": "execute_result",
          "data": {
            "text/plain": [
              "[Text(0, 0.5, 'time in ms'),\n",
              " Text(0.5, 0, 'fib(n)'),\n",
              " Text(0.5, 1.0, 'execution time of fibo_term(n)')]"
            ]
          },
          "metadata": {
            "tags": []
          },
          "execution_count": 19
        },
        {
          "output_type": "display_data",
          "data": {
            "image/png": "[encoded data removed]",
            "text/plain": [
              "<Figure size 432x288 with 1 Axes>"
            ]
          },
          "metadata": {
            "tags": [],
            "needs_background": "light"
          }
        }
      ]
    },
    {
      "cell_type": "markdown",
      "metadata": {
        "id": "vUSE-sFqF-bZ"
      },
      "source": [
        "# Question 8: Comparez les performances en temps de fibo_rec et fibo_term avec un graphique."
      ]
    },
    {
      "cell_type": "markdown",
      "metadata": {
        "id": "wgRQ1trmAYjl"
      },
      "source": [
        "Si on plotte les deux mesures de performances pour fibo_rec et fibo_term, on obtient les courbes ci-dessous:"
      ]
    },
    {
      "cell_type": "code",
      "metadata": {
        "colab": {
          "base_uri": "https://localhost:8080/",
          "height": 435
        },
        "id": "P_gnzaOqAj32",
        "outputId": "cd0cbda8-e640-4cde-cda3-4dcd2763d4cf"
      },
      "source": [
        "fig,ax=plt.subplots(1,figsize=(8,6))\n",
        "fig.suptitle('Recursive non terminal  vs Recursive Terminal Fibonacci')\n",
        "\n",
        "ax.plot(x,rec,color=\"red\",label=\"recursive\")\n",
        "ax.plot(x,term,color=\"green\",label=\"terminal\")\n",
        "plt.legend(loc=\"upper left\", title=\"Legend Title\", frameon=False)\n"
      ],
      "execution_count": 10,
      "outputs": [
        {
          "output_type": "execute_result",
          "data": {
            "text/plain": [
              "<matplotlib.legend.Legend at 0x7fa13b336050>"
            ]
          },
          "metadata": {
            "tags": []
          },
          "execution_count": 10
        },
        {
          "output_type": "display_data",
          "data": {
            "image/png": "[encoded data removed]",
            "text/plain": [
              "<Figure size 576x432 with 1 Axes>"
            ]
          },
          "metadata": {
            "tags": [],
            "needs_background": "light"
          }
        }
      ]
    },
    {
      "cell_type": "markdown",
      "metadata": {
        "id": "EfZvZJixrLTq"
      },
      "source": [
        "# Question 8: écrivez une function fibo_it(n) itérative calculant $F_n$."
      ]
    },
    {
      "cell_type": "code",
      "metadata": {
        "colab": {
          "base_uri": "https://localhost:8080/"
        },
        "id": "LI9rtcH1rTr6",
        "outputId": "a7a7c143-5f52-4d2a-e2ec-f8a6613f0d9b"
      },
      "source": [
        "def fibo_it(n):\n",
        "    a, b = 0, 1\n",
        "    for i in range(0, n):\n",
        "        a, b = b, a + b\n",
        "    return a\n",
        "print(fibo_it(5))\n",
        "\n"
      ],
      "execution_count": 11,
      "outputs": [
        {
          "output_type": "stream",
          "text": [
            "5\n"
          ],
          "name": "stdout"
        }
      ]
    },
    {
      "cell_type": "markdown",
      "metadata": {
        "id": "RXoY6uC9rX4C"
      },
      "source": [
        "# Question 9: Quelle est la complexité de fibo_it(n) ?"
      ]
    },
    {
      "cell_type": "code",
      "metadata": {
        "colab": {
          "base_uri": "https://localhost:8080/",
          "height": 111,
          "referenced_widgets": [
            "dff0c33f733e4447b98f3d5386043e82",
            "2315b337b0da418e9de09e7348316ec0",
            "efd93e48e4bf48c597d7a60b7d84a72a",
            "99d0b19c3b5645758ac02a1fa2fe3eb0",
            "2a460e2afcb840948618b21db4529d5c",
            "602c5c3d89ea4f6a819cb36edfe5f419",
            "fbe0c096a20d4e60a2a9b271b05ab9cf",
            "6ed2be5f0e984510b09616becc484a70",
            "b1ef7a4019b54776b3155cde82d8be56",
            "9392d16e7c3d4346b5bbe022d2e63d05",
            "81fa1ec97c9e49688d0d4c19e24779f8",
            "21b96961b68b470fabc7284a18b93f40"
          ]
        },
        "id": "jyLb5oDqBL3U",
        "outputId": "e31ba04e-cd5d-4caf-9f51-76f38a9a78db"
      },
      "source": [
        "\n",
        "Q1 = create_multipleChoice_widget('Complexité de fib_it(n): ?',['O(n)','O(2^n)'],'O(n)')\n",
        "display(Q1)"
      ],
      "execution_count": 12,
      "outputs": [
        {
          "output_type": "display_data",
          "data": {
            "application/vnd.jupyter.widget-view+json": {
              "model_id": "dff0c33f733e4447b98f3d5386043e82",
              "version_minor": 0,
              "version_major": 2
            },
            "text/plain": [
              "VBox(children=(Output(), RadioButtons(options=(('O(n)', 0), ('O(2^n)', 1)), value=0), Button(description='subm…"
            ]
          },
          "metadata": {
            "tags": []
          }
        }
      ]
    },
    {
      "cell_type": "markdown",
      "metadata": {
        "id": "8gAHrvDXGR_A"
      },
      "source": [
        "# Question 10: Mesurez les performances de fibo_it(n)"
      ]
    },
    {
      "cell_type": "markdown",
      "metadata": {
        "id": "VAF55zbUBN_i"
      },
      "source": [
        "Si nous évaluons les performances de fibo_it(n), on obtient la courbe ci-dessous:"
      ]
    },
    {
      "cell_type": "code",
      "metadata": {
        "colab": {
          "base_uri": "https://localhost:8080/",
          "height": 402
        },
        "id": "q1D4v75lBfb2",
        "outputId": "6fee6f97-db91-4d1c-8aa8-41578bac8992"
      },
      "source": [
        "%matplotlib inline\n",
        "import time\n",
        "import matplotlib.pyplot as plt\n",
        "\n",
        "fig=plt.figure()\n",
        "\n",
        "it = []\n",
        "for i in range(20):\n",
        "  start=time.monotonic()\n",
        "  fibo_it(i)\n",
        "  t=(time.monotonic()-start)*1000\n",
        "  it.append(t)\n",
        "\n",
        "plt.plot(it,linestyle='solid',color='blue')\n",
        "ax=plt.axes()\n",
        "ax.set(xlabel=\"fib(n)\",ylabel=\"time in ms\",title=\"execution time of fibo_it(n)\")\n"
      ],
      "execution_count": 13,
      "outputs": [
        {
          "output_type": "stream",
          "text": [
            "/usr/local/lib/python3.7/dist-packages/ipykernel_launcher.py:15: MatplotlibDeprecationWarning: Adding an axes using the same arguments as a previous axes currently reuses the earlier instance.  In a future version, a new instance will always be created and returned.  Meanwhile, this warning can be suppressed, and the future behavior ensured, by passing a unique label to each axes instance.\n",
            "  from ipykernel import kernelapp as app\n"
          ],
          "name": "stderr"
        },
        {
          "output_type": "execute_result",
          "data": {
            "text/plain": [
              "[Text(0, 0.5, 'time in ms'),\n",
              " Text(0.5, 0, 'fib(n)'),\n",
              " Text(0.5, 1.0, 'execution time of fibo_it(n)')]"
            ]
          },
          "metadata": {
            "tags": []
          },
          "execution_count": 13
        },
        {
          "output_type": "display_data",
          "data": {
            "image/png": "[encoded data removed]",
            "text/plain": [
              "<Figure size 432x288 with 1 Axes>"
            ]
          },
          "metadata": {
            "tags": [],
            "needs_background": "light"
          }
        }
      ]
    },
    {
      "cell_type": "markdown",
      "metadata": {
        "id": "F8KEWh8GGdKi"
      },
      "source": [
        "# Question 11: Comparez les performances de fibo_term(n) vs fibo_it(n)."
      ]
    },
    {
      "cell_type": "markdown",
      "metadata": {
        "id": "NLkivH-lBrmA"
      },
      "source": [
        "Maintenant, si nous comparons les performances de fibo_it(n) et fibo_term(n)"
      ]
    },
    {
      "cell_type": "code",
      "metadata": {
        "colab": {
          "base_uri": "https://localhost:8080/",
          "height": 435
        },
        "id": "XCP0d9lxrhNr",
        "outputId": "e30b773e-54bf-41f9-9f0a-22bb9697a775"
      },
      "source": [
        "%matplotlib inline\n",
        "\n",
        "fig,ax=plt.subplots(1,figsize=(8,6))\n",
        "fig.suptitle('Iterative vs Terminal Fibonacci')\n",
        "\n",
        "ax.plot(x,it,color=\"blue\",label=\"iterative\")\n",
        "ax.plot(x,term,color=\"green\",label=\"terminal\")\n",
        "plt.legend(loc=\"upper left\", title=\"Legend Title\", frameon=False)\n"
      ],
      "execution_count": 14,
      "outputs": [
        {
          "output_type": "execute_result",
          "data": {
            "text/plain": [
              "<matplotlib.legend.Legend at 0x7fa13acabb50>"
            ]
          },
          "metadata": {
            "tags": []
          },
          "execution_count": 14
        },
        {
          "output_type": "display_data",
          "data": {
            "image/png": "[encoded data removed]",
            "text/plain": [
              "<Figure size 576x432 with 1 Axes>"
            ]
          },
          "metadata": {
            "tags": [],
            "needs_background": "light"
          }
        }
      ]
    },
    {
      "cell_type": "markdown",
      "metadata": {
        "id": "JZZnY5pe1wY7"
      },
      "source": [
        "#Q12: Des divers algorithmes, que pouvez dire ?"
      ]
    },
    {
      "cell_type": "markdown",
      "metadata": {
        "id": "pkrqnWLX1wKq"
      },
      "source": [
        "# Conclusion: \n",
        "\n",
        "L' algorithme naîf récursif est impraticable tandis que l'algorithme itératif et l'algorithme récursif terminal sont efficaces."
      ]
    }
  ]
}